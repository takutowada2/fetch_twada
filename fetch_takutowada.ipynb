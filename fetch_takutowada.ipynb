{
 "cells": [
  {
   "cell_type": "markdown",
   "id": "aea4a173",
   "metadata": {},
   "source": [
    "Fetch\n",
    "---\n",
    "Written by Takuto Wada March 2025"
   ]
  },
  {
   "cell_type": "code",
   "execution_count": 1,
   "id": "b579aedb",
   "metadata": {},
   "outputs": [],
   "source": [
    "#Import libraries\n",
    "import pandas as pd\n",
    "import seaborn as sns\n",
    "import numpy as np\n",
    "import matplotlib.pyplot as plt\n",
    "from statistics import mean, median\n",
    "from pandasql import sqldf\n",
    "pysqldf = lambda q: sqldf(q, globals())"
   ]
  },
  {
   "cell_type": "markdown",
   "id": "4ecba997",
   "metadata": {},
   "source": [
    "First: explore the data\n",
    "---\n",
    "Review the unstructured csv files and answer the following questions with code that supports your conclusions:\n",
    "\n",
    "\n",
    "Are there any data quality issues present?\n",
    "Are there any fields that are challenging to understand?"
   ]
  },
  {
   "cell_type": "code",
   "execution_count": 2,
   "id": "4862cb04",
   "metadata": {},
   "outputs": [],
   "source": [
    "#read excel data\n",
    "products = pd.read_csv('PRODUCTS_TAKEHOME.csv')\n",
    "user = pd.read_csv('USER_TAKEHOME.csv')\n",
    "transaction = pd.read_csv('TRANSACTION_TAKEHOME.csv')"
   ]
  },
  {
   "cell_type": "code",
   "execution_count": 3,
   "id": "32f7fd80",
   "metadata": {},
   "outputs": [
    {
     "data": {
      "text/html": [
       "<div>\n",
       "<style scoped>\n",
       "    .dataframe tbody tr th:only-of-type {\n",
       "        vertical-align: middle;\n",
       "    }\n",
       "\n",
       "    .dataframe tbody tr th {\n",
       "        vertical-align: top;\n",
       "    }\n",
       "\n",
       "    .dataframe thead th {\n",
       "        text-align: right;\n",
       "    }\n",
       "</style>\n",
       "<table border=\"1\" class=\"dataframe\">\n",
       "  <thead>\n",
       "    <tr style=\"text-align: right;\">\n",
       "      <th></th>\n",
       "      <th>CATEGORY_1</th>\n",
       "      <th>CATEGORY_2</th>\n",
       "      <th>CATEGORY_3</th>\n",
       "      <th>CATEGORY_4</th>\n",
       "      <th>MANUFACTURER</th>\n",
       "      <th>BRAND</th>\n",
       "      <th>BARCODE</th>\n",
       "    </tr>\n",
       "  </thead>\n",
       "  <tbody>\n",
       "    <tr>\n",
       "      <th>0</th>\n",
       "      <td>Health &amp; Wellness</td>\n",
       "      <td>Sexual Health</td>\n",
       "      <td>Conductivity Gels &amp; Lotions</td>\n",
       "      <td>NaN</td>\n",
       "      <td>NaN</td>\n",
       "      <td>NaN</td>\n",
       "      <td>7.964944e+11</td>\n",
       "    </tr>\n",
       "    <tr>\n",
       "      <th>1</th>\n",
       "      <td>Snacks</td>\n",
       "      <td>Puffed Snacks</td>\n",
       "      <td>Cheese Curls &amp; Puffs</td>\n",
       "      <td>NaN</td>\n",
       "      <td>NaN</td>\n",
       "      <td>NaN</td>\n",
       "      <td>2.327801e+10</td>\n",
       "    </tr>\n",
       "    <tr>\n",
       "      <th>2</th>\n",
       "      <td>Health &amp; Wellness</td>\n",
       "      <td>Hair Care</td>\n",
       "      <td>Hair Care Accessories</td>\n",
       "      <td>NaN</td>\n",
       "      <td>PLACEHOLDER MANUFACTURER</td>\n",
       "      <td>ELECSOP</td>\n",
       "      <td>4.618178e+11</td>\n",
       "    </tr>\n",
       "    <tr>\n",
       "      <th>3</th>\n",
       "      <td>Health &amp; Wellness</td>\n",
       "      <td>Oral Care</td>\n",
       "      <td>Toothpaste</td>\n",
       "      <td>NaN</td>\n",
       "      <td>COLGATE-PALMOLIVE</td>\n",
       "      <td>COLGATE</td>\n",
       "      <td>3.500047e+10</td>\n",
       "    </tr>\n",
       "    <tr>\n",
       "      <th>4</th>\n",
       "      <td>Health &amp; Wellness</td>\n",
       "      <td>Medicines &amp; Treatments</td>\n",
       "      <td>Essential Oils</td>\n",
       "      <td>NaN</td>\n",
       "      <td>MAPLE HOLISTICS AND HONEYDEW PRODUCTS INTERCHA...</td>\n",
       "      <td>MAPLE HOLISTICS</td>\n",
       "      <td>8.068109e+11</td>\n",
       "    </tr>\n",
       "  </tbody>\n",
       "</table>\n",
       "</div>"
      ],
      "text/plain": [
       "          CATEGORY_1              CATEGORY_2                   CATEGORY_3  \\\n",
       "0  Health & Wellness           Sexual Health  Conductivity Gels & Lotions   \n",
       "1             Snacks           Puffed Snacks         Cheese Curls & Puffs   \n",
       "2  Health & Wellness               Hair Care        Hair Care Accessories   \n",
       "3  Health & Wellness               Oral Care                   Toothpaste   \n",
       "4  Health & Wellness  Medicines & Treatments               Essential Oils   \n",
       "\n",
       "  CATEGORY_4                                       MANUFACTURER  \\\n",
       "0        NaN                                                NaN   \n",
       "1        NaN                                                NaN   \n",
       "2        NaN                           PLACEHOLDER MANUFACTURER   \n",
       "3        NaN                                  COLGATE-PALMOLIVE   \n",
       "4        NaN  MAPLE HOLISTICS AND HONEYDEW PRODUCTS INTERCHA...   \n",
       "\n",
       "             BRAND       BARCODE  \n",
       "0              NaN  7.964944e+11  \n",
       "1              NaN  2.327801e+10  \n",
       "2          ELECSOP  4.618178e+11  \n",
       "3          COLGATE  3.500047e+10  \n",
       "4  MAPLE HOLISTICS  8.068109e+11  "
      ]
     },
     "execution_count": 3,
     "metadata": {},
     "output_type": "execute_result"
    }
   ],
   "source": [
    "products.head()"
   ]
  },
  {
   "cell_type": "code",
   "execution_count": 4,
   "id": "9b1ede79",
   "metadata": {},
   "outputs": [
    {
     "name": "stdout",
     "output_type": "stream",
     "text": [
      "number of rows and columns of products\n",
      "(845552, 7)\n"
     ]
    }
   ],
   "source": [
    "print(\"number of rows and columns of products\")\n",
    "print(products.shape)"
   ]
  },
  {
   "cell_type": "code",
   "execution_count": 5,
   "id": "774cac70",
   "metadata": {},
   "outputs": [
    {
     "name": "stdout",
     "output_type": "stream",
     "text": [
      "number of unique barcode of of products\n",
      "841342\n"
     ]
    }
   ],
   "source": [
    "print(\"number of unique barcode of of products\")\n",
    "print(products.BARCODE.nunique())\n",
    "BARCODE = products[\"BARCODE\"]\n",
    "dup_prod = products[BARCODE.isin(BARCODE[BARCODE.duplicated()])].sort_values(\"BARCODE\")\n",
    "dup_prod = dup_prod['BARCODE']\n",
    "#There should not be any duplicated BARCODE in products. This is a data quality issue. \n",
    "#It should have matched to 845552 above"
   ]
  },
  {
   "cell_type": "code",
   "execution_count": 6,
   "id": "93ea47ed",
   "metadata": {},
   "outputs": [],
   "source": [
    "products = products[products['BARCODE'].notna()]\n",
    "products = products.sort_values(by=['BARCODE'])\n",
    "products = products.drop_duplicates(subset=['BARCODE'], keep='first')"
   ]
  },
  {
   "cell_type": "code",
   "execution_count": 7,
   "id": "8cd216f8",
   "metadata": {},
   "outputs": [
    {
     "name": "stdout",
     "output_type": "stream",
     "text": [
      "frequency of each unique value in column CATEGORY_1\n",
      "Health & Wellness         510382\n",
      "Snacks                    323018\n",
      "Beverages                   3977\n",
      "Pantry                       867\n",
      "Apparel & Accessories        840\n",
      "Dairy                        592\n",
      "Needs Review                 547\n",
      "Alcohol                      475\n",
      "Home & Garden                115\n",
      "NaN                          111\n",
      "Deli & Bakery                 66\n",
      "Frozen                        62\n",
      "Meat & Seafood                49\n",
      "Sporting Goods                47\n",
      "Office & School               45\n",
      "Restaurant                    35\n",
      "Toys & Games                  28\n",
      "Household Supplies            24\n",
      "Produce                       20\n",
      "Animals & Pet Supplies        16\n",
      "Arts & Entertainment           7\n",
      "Electronics                    5\n",
      "Vehicles & Parts               3\n",
      "Mature                         3\n",
      "Baby & Toddler                 3\n",
      "Media                          2\n",
      "Beauty                         2\n",
      "Luggage & Bags                 1\n",
      "Name: CATEGORY_1, dtype: int64\n"
     ]
    },
    {
     "data": {
      "text/plain": [
       "<AxesSubplot:xlabel='CATEGORY_1', ylabel='Count'>"
      ]
     },
     "execution_count": 7,
     "metadata": {},
     "output_type": "execute_result"
    },
    {
     "data": {
      "image/png": "[encoded data removed]",
      "text/plain": [
       "<Figure size 640x480 with 1 Axes>"
      ]
     },
     "metadata": {},
     "output_type": "display_data"
    }
   ],
   "source": [
    "print(\"frequency of each unique value in column CATEGORY_1\")\n",
    "print(products['CATEGORY_1'].value_counts(dropna=False))\n",
    "sns.histplot(data=products, x=\"CATEGORY_1\")\n",
    "#Almost all barcodes belong to either Health and Wellness or Snacks."
   ]
  },
  {
   "cell_type": "code",
   "execution_count": 8,
   "id": "fcf79379",
   "metadata": {},
   "outputs": [
    {
     "name": "stdout",
     "output_type": "stream",
     "text": [
      "frequency of each unique value in column CATEGORY_2\n",
      "Candy                     120620\n",
      "Hair Care                 111167\n",
      "Medicines & Treatments     98734\n",
      "Bath & Body                81131\n",
      "Skin Care                  62183\n",
      "                           ...  \n",
      "Shipping Supplies              1\n",
      "Music & Recordings             1\n",
      "Condiments                     1\n",
      "Hard Ciders                    1\n",
      "Books                          1\n",
      "Name: CATEGORY_2, Length: 122, dtype: int64\n"
     ]
    },
    {
     "data": {
      "text/plain": [
       "<AxesSubplot:xlabel='CATEGORY_2', ylabel='Count'>"
      ]
     },
     "execution_count": 8,
     "metadata": {},
     "output_type": "execute_result"
    },
    {
     "data": {
      "image/png": "[encoded data removed]",
      "text/plain": [
       "<Figure size 640x480 with 1 Axes>"
      ]
     },
     "metadata": {},
     "output_type": "display_data"
    }
   ],
   "source": [
    "print(\"frequency of each unique value in column CATEGORY_2\")\n",
    "print(products['CATEGORY_2'].value_counts(dropna=False))\n",
    "sns.histplot(data=products, x=\"CATEGORY_2\", binwidth=10)"
   ]
  },
  {
   "cell_type": "code",
   "execution_count": 9,
   "id": "c86ea39e",
   "metadata": {},
   "outputs": [
    {
     "name": "stdout",
     "output_type": "stream",
     "text": [
      "frequency of each unique value in column CATEGORY_3\n",
      "Confection Candy                 56911\n",
      "Vitamins & Herbal Supplements    55632\n",
      "Chocolate Candy                  47552\n",
      "Hair Styling Products            20406\n",
      "Reading Glasses                  20392\n",
      "                                 ...  \n",
      "Chair & Sofa Cushions                1\n",
      "Flameless Candles                    1\n",
      "Sours & Fruit Beer                   1\n",
      "Cocktail Sauces                      1\n",
      "Slot Machines                        1\n",
      "Name: CATEGORY_3, Length: 341, dtype: int64\n"
     ]
    },
    {
     "data": {
      "text/plain": [
       "<AxesSubplot:xlabel='CATEGORY_3', ylabel='Count'>"
      ]
     },
     "execution_count": 9,
     "metadata": {},
     "output_type": "execute_result"
    },
    {
     "data": {
      "image/png": "[encoded data removed]",
      "text/plain": [
       "<Figure size 640x480 with 1 Axes>"
      ]
     },
     "metadata": {},
     "output_type": "display_data"
    }
   ],
   "source": [
    "print(\"frequency of each unique value in column CATEGORY_3\")\n",
    "print(products['CATEGORY_3'].value_counts())\n",
    "sns.histplot(data=products, x=\"CATEGORY_3\", binwidth=10)"
   ]
  },
  {
   "cell_type": "markdown",
   "id": "8964fe84",
   "metadata": {},
   "source": [
    "CATEGORY_2 and CATEGORY_3 look like great columns to use for analysis. There is a lot of variety and no apparent data issue."
   ]
  },
  {
   "cell_type": "code",
   "execution_count": 10,
   "id": "cc4ccc80",
   "metadata": {},
   "outputs": [
    {
     "name": "stdout",
     "output_type": "stream",
     "text": [
      "frequency of each unique value in column CATEGORY_4\n",
      "NaN                         774110\n",
      "Lip Balms                     9712\n",
      "Already Popped Popcorn        6956\n",
      "Sleep Aids                    4968\n",
      "Hair Brushes & Combs          4720\n",
      "                             ...  \n",
      "Beverage Warmers                 1\n",
      "Sherbet                          1\n",
      "Craft Paint, Ink & Glaze         1\n",
      "White Merlot                     1\n",
      "Wall Clocks                      1\n",
      "Name: CATEGORY_4, Length: 127, dtype: int64\n"
     ]
    },
    {
     "data": {
      "text/plain": [
       "<AxesSubplot:xlabel='CATEGORY_4', ylabel='Count'>"
      ]
     },
     "execution_count": 10,
     "metadata": {},
     "output_type": "execute_result"
    },
    {
     "data": {
      "image/png": "[encoded data removed]",
      "text/plain": [
       "<Figure size 640x480 with 1 Axes>"
      ]
     },
     "metadata": {},
     "output_type": "display_data"
    }
   ],
   "source": [
    "print(\"frequency of each unique value in column CATEGORY_4\")\n",
    "print(products['CATEGORY_4'].value_counts(dropna=False))\n",
    "sns.histplot(data=products, x=\"CATEGORY_4\", binwidth=10)\n",
    "#CATEGORY_4 contains some data quality issue where majority are NaN. Data quality issue"
   ]
  },
  {
   "cell_type": "code",
   "execution_count": 11,
   "id": "d7639cf3",
   "metadata": {},
   "outputs": [
    {
     "name": "stdout",
     "output_type": "stream",
     "text": [
      "frequency of each unique value in column MANUFACTURER\n",
      "NaN                                  226213\n",
      "PLACEHOLDER MANUFACTURER              86897\n",
      "REM MANUFACTURER                      20813\n",
      "PROCTER & GAMBLE                      20796\n",
      "L'OREAL                               16673\n",
      "                                      ...  \n",
      "CULTURES FOR HEALTH, INC                  1\n",
      "THAMES & KOSMOS LLC                       1\n",
      "THE FROZENBEAN INC                        1\n",
      "COMMERCIAL ELECTRIC PRODUCTS, LLC         1\n",
      "BONDI BOOST PTY, LTD                      1\n",
      "Name: MANUFACTURER, Length: 4355, dtype: int64\n"
     ]
    }
   ],
   "source": [
    "print(\"frequency of each unique value in column MANUFACTURER\")\n",
    "print(products['MANUFACTURER'].value_counts(dropna=False))\n",
    "# sns.histplot(data=products, x=\"MANUFACTURER\", binwidth=10)"
   ]
  },
  {
   "cell_type": "code",
   "execution_count": 12,
   "id": "1e83e568",
   "metadata": {},
   "outputs": [
    {
     "name": "stdout",
     "output_type": "stream",
     "text": [
      "frequency of each unique value in column BRAND\n",
      "NaN                226211\n",
      "REM BRAND           20813\n",
      "BRAND NOT KNOWN     17021\n",
      "PRIVATE LABEL       13467\n",
      "CVS                  6400\n",
      "                    ...  \n",
      "LIGHTLIFE               1\n",
      "GLORY FURNITURE         1\n",
      "PLUMROSE                1\n",
      "MY TEXAS HOUSE          1\n",
      "ROCKIT                  1\n",
      "Name: BRAND, Length: 8054, dtype: int64\n"
     ]
    }
   ],
   "source": [
    "print(\"frequency of each unique value in column BRAND\")\n",
    "print(products['BRAND'].value_counts(dropna=False))"
   ]
  },
  {
   "cell_type": "markdown",
   "id": "a4a94361",
   "metadata": {},
   "source": [
    "The top 2 common manufacturers are NaN and placeholder. Similarly the most common brand entry is NaN. These are data qualities issue that should be looked at."
   ]
  },
  {
   "cell_type": "code",
   "execution_count": 13,
   "id": "aa01a673",
   "metadata": {},
   "outputs": [
    {
     "name": "stdout",
     "output_type": "stream",
     "text": [
      "number of rows and columns of user table\n",
      "(100000, 6)\n"
     ]
    }
   ],
   "source": [
    "print(\"number of rows and columns of user table\")\n",
    "print(user.shape)"
   ]
  },
  {
   "cell_type": "code",
   "execution_count": 14,
   "id": "2cb08882",
   "metadata": {},
   "outputs": [
    {
     "name": "stdout",
     "output_type": "stream",
     "text": [
      "number of unique users in user table\n",
      "100000\n"
     ]
    }
   ],
   "source": [
    "print(\"number of unique users in user table\")\n",
    "print(user.ID.nunique())\n",
    "# No duplication of users - good"
   ]
  },
  {
   "cell_type": "code",
   "execution_count": 15,
   "id": "1afbda73",
   "metadata": {},
   "outputs": [
    {
     "name": "stdout",
     "output_type": "stream",
     "text": [
      "Minimum and maximum created date in user table\n",
      "2014-04-18 23:14:55+00:00\n",
      "2024-09-11 17:59:15+00:00\n"
     ]
    }
   ],
   "source": [
    "print(\"Minimum and maximum created date in user table\")\n",
    "user['CREATED_DATE'] = pd.to_datetime(user['CREATED_DATE'])\n",
    "print(user.CREATED_DATE.min())\n",
    "print(user.CREATED_DATE.max())\n",
    "# Oldest user is 10 years old and newest user is 6 months old as of today. Looks good"
   ]
  },
  {
   "cell_type": "code",
   "execution_count": 16,
   "id": "fd7ee0e1",
   "metadata": {},
   "outputs": [
    {
     "name": "stdout",
     "output_type": "stream",
     "text": [
      "Minimum and maximum birth date in user table\n",
      "1900-01-01 00:00:00+00:00\n",
      "2022-04-03 07:00:00+00:00\n"
     ]
    }
   ],
   "source": [
    "print(\"Minimum and maximum birth date in user table\")\n",
    "user['BIRTH_DATE'] = pd.to_datetime(user['BIRTH_DATE'])\n",
    "print(user.BIRTH_DATE.min())\n",
    "print(user.BIRTH_DATE.max())\n",
    "#This looks like data quality issue/or fake entry of birthdate.\n",
    "#I do not assume a 125 year old or a 3 year old to be part of the dataset. \n",
    "#Outliers should be cleaned up. Perhaps keeping only age 15-80."
   ]
  },
  {
   "cell_type": "code",
   "execution_count": 17,
   "id": "ed561161",
   "metadata": {},
   "outputs": [
    {
     "name": "stdout",
     "output_type": "stream",
     "text": [
      "Distribution of where users are from\n",
      "TX    9028\n",
      "FL    8921\n",
      "CA    8589\n",
      "NY    5703\n",
      "IL    3794\n",
      "GA    3718\n",
      "PA    3644\n",
      "OH    3519\n",
      "NC    3399\n",
      "NJ    2899\n",
      "MI    2582\n",
      "VA    2400\n",
      "IN    2213\n",
      "TN    2165\n",
      "AL    1792\n",
      "SC    1773\n",
      "KY    1731\n",
      "AZ    1728\n",
      "MO    1652\n",
      "MD    1636\n",
      "MA    1523\n",
      "WI    1389\n",
      "PR    1361\n",
      "LA    1290\n",
      "WA    1234\n",
      "CO    1139\n",
      "MN    1125\n",
      "CT    1110\n",
      "OK    1100\n",
      "AR    1011\n",
      "MS     960\n",
      "IA     933\n",
      "NV     837\n",
      "KS     835\n",
      "OR     700\n",
      "WV     674\n",
      "UT     593\n",
      "DE     492\n",
      "NE     487\n",
      "NM     452\n",
      "ME     368\n",
      "NH     359\n",
      "HI     350\n",
      "ID     350\n",
      "AK     297\n",
      "RI     284\n",
      "DC     241\n",
      "SD     205\n",
      "ND     185\n",
      "MT     169\n",
      "WY     138\n",
      "VT     111\n",
      "Name: STATE, dtype: int64\n"
     ]
    },
    {
     "data": {
      "text/plain": [
       "<AxesSubplot:xlabel='STATE', ylabel='Count'>"
      ]
     },
     "execution_count": 17,
     "metadata": {},
     "output_type": "execute_result"
    },
    {
     "data": {
      "image/png": "[encoded data removed]",
      "text/plain": [
       "<Figure size 640x480 with 1 Axes>"
      ]
     },
     "metadata": {},
     "output_type": "display_data"
    }
   ],
   "source": [
    "print(\"Distribution of where users are from\")\n",
    "print(user.STATE.value_counts())\n",
    "sns.histplot(data=user, x=\"STATE\", binwidth=10)\n",
    "#A lot of users from the big states: TX, FL,CA,NY,IL. This makes sense."
   ]
  },
  {
   "cell_type": "code",
   "execution_count": 18,
   "id": "b5eacc4a",
   "metadata": {},
   "outputs": [
    {
     "name": "stdout",
     "output_type": "stream",
     "text": [
      "number of rows and columns of user table\n",
      "en        63403\n",
      "NaN       30508\n",
      "es-419     6089\n",
      "Name: LANGUAGE, dtype: int64\n"
     ]
    }
   ],
   "source": [
    "print(\"number of rows and columns of user table\")\n",
    "print(user.LANGUAGE.value_counts(dropna=False))\n",
    "#Mostly english, little bit of spanish, and rest are blank."
   ]
  },
  {
   "cell_type": "code",
   "execution_count": 19,
   "id": "ac531dde",
   "metadata": {},
   "outputs": [
    {
     "name": "stdout",
     "output_type": "stream",
     "text": [
      "number of rows and columns of user table\n",
      "female                    64240\n",
      "male                      25829\n",
      "NaN                        5892\n",
      "transgender                1772\n",
      "prefer_not_to_say          1350\n",
      "non_binary                  473\n",
      "unknown                     196\n",
      "not_listed                  180\n",
      "Non-Binary                   34\n",
      "not_specified                28\n",
      "My gender isn't listed        5\n",
      "Prefer not to say             1\n",
      "Name: GENDER, dtype: int64\n"
     ]
    }
   ],
   "source": [
    "print(\"number of rows and columns of user table\")\n",
    "print(user.GENDER.value_counts(dropna=False))\n",
    "#Majority are females"
   ]
  },
  {
   "cell_type": "code",
   "execution_count": 20,
   "id": "249cf1b9",
   "metadata": {},
   "outputs": [
    {
     "name": "stdout",
     "output_type": "stream",
     "text": [
      "number of rows and columns of transaction table\n",
      "(50000, 8)\n"
     ]
    }
   ],
   "source": [
    "print(\"number of rows and columns of transaction table\")\n",
    "print(transaction.shape)"
   ]
  },
  {
   "cell_type": "code",
   "execution_count": 21,
   "id": "e42301fb",
   "metadata": {},
   "outputs": [
    {
     "name": "stdout",
     "output_type": "stream",
     "text": [
      "number of rows and columns of user table\n",
      "24440\n"
     ]
    }
   ],
   "source": [
    "print(\"number of rows and columns of user table\")\n",
    "print(transaction.RECEIPT_ID.nunique())\n",
    "#RECEIPT ID should be the primary key and there should not be any duplication. This is a data issue"
   ]
  },
  {
   "cell_type": "code",
   "execution_count": 22,
   "id": "aeb6545c",
   "metadata": {},
   "outputs": [],
   "source": [
    "# RECEIPT_ID = transaction[\"RECEIPT_ID\"]\n",
    "# dup_receipt = transaction[RECEIPT_ID.isin(RECEIPT_ID[RECEIPT_ID.duplicated()])].sort_values(\"RECEIPT_ID\")\n",
    "# dup_receipt = dup_receipt['RECEIPT_ID']\n",
    "# dup_receipt.tail(20)"
   ]
  },
  {
   "cell_type": "code",
   "execution_count": 66,
   "id": "0e00fab1",
   "metadata": {},
   "outputs": [],
   "source": [
    "transaction = pd.read_csv('TRANSACTION_TAKEHOME.csv')"
   ]
  },
  {
   "cell_type": "code",
   "execution_count": 23,
   "id": "3d9bd5a7",
   "metadata": {},
   "outputs": [
    {
     "data": {
      "text/html": [
       "<div>\n",
       "<style scoped>\n",
       "    .dataframe tbody tr th:only-of-type {\n",
       "        vertical-align: middle;\n",
       "    }\n",
       "\n",
       "    .dataframe tbody tr th {\n",
       "        vertical-align: top;\n",
       "    }\n",
       "\n",
       "    .dataframe thead th {\n",
       "        text-align: right;\n",
       "    }\n",
       "</style>\n",
       "<table border=\"1\" class=\"dataframe\">\n",
       "  <thead>\n",
       "    <tr style=\"text-align: right;\">\n",
       "      <th></th>\n",
       "      <th>RECEIPT_ID</th>\n",
       "      <th>PURCHASE_DATE</th>\n",
       "      <th>SCAN_DATE</th>\n",
       "      <th>STORE_NAME</th>\n",
       "      <th>USER_ID</th>\n",
       "      <th>BARCODE</th>\n",
       "      <th>FINAL_QUANTITY</th>\n",
       "      <th>FINAL_SALE</th>\n",
       "    </tr>\n",
       "  </thead>\n",
       "  <tbody>\n",
       "    <tr>\n",
       "      <th>41567</th>\n",
       "      <td>0000d256-4041-4a3e-adc4-5623fb6e0c99</td>\n",
       "      <td>2024-08-21</td>\n",
       "      <td>2024-08-21 14:19:06.539 Z</td>\n",
       "      <td>WALMART</td>\n",
       "      <td>63b73a7f3d310dceeabd4758</td>\n",
       "      <td>1.530001e+10</td>\n",
       "      <td>1.00</td>\n",
       "      <td>1.54</td>\n",
       "    </tr>\n",
       "    <tr>\n",
       "      <th>39291</th>\n",
       "      <td>0001455d-7a92-4a7b-a1d2-c747af1c8fd3</td>\n",
       "      <td>2024-07-20</td>\n",
       "      <td>2024-07-20 09:50:24.206 Z</td>\n",
       "      <td>ALDI</td>\n",
       "      <td>62c08877baa38d1a1f6c211a</td>\n",
       "      <td>NaN</td>\n",
       "      <td>1.00</td>\n",
       "      <td>1.49</td>\n",
       "    </tr>\n",
       "    <tr>\n",
       "      <th>25928</th>\n",
       "      <td>00017e0a-7851-42fb-bfab-0baa96e23586</td>\n",
       "      <td>2024-08-18</td>\n",
       "      <td>2024-08-19 15:38:56.813 Z</td>\n",
       "      <td>WALMART</td>\n",
       "      <td>60842f207ac8b7729e472020</td>\n",
       "      <td>7.874223e+10</td>\n",
       "      <td>1.00</td>\n",
       "      <td>2.54</td>\n",
       "    </tr>\n",
       "    <tr>\n",
       "      <th>41475</th>\n",
       "      <td>000239aa-3478-453d-801e-66a82e39c8af</td>\n",
       "      <td>2024-06-18</td>\n",
       "      <td>2024-06-19 11:03:37.468 Z</td>\n",
       "      <td>FOOD LION</td>\n",
       "      <td>63fcd7cea4f8442c3386b589</td>\n",
       "      <td>7.833997e+11</td>\n",
       "      <td>1.00</td>\n",
       "      <td>3.49</td>\n",
       "    </tr>\n",
       "    <tr>\n",
       "      <th>43233</th>\n",
       "      <td>00026b4c-dfe8-49dd-b026-4c2f0fd5c6a1</td>\n",
       "      <td>2024-07-04</td>\n",
       "      <td>2024-07-05 15:56:43.549 Z</td>\n",
       "      <td>RANDALLS</td>\n",
       "      <td>6193231ae9b3d75037b0f928</td>\n",
       "      <td>4.790050e+10</td>\n",
       "      <td>1.00</td>\n",
       "      <td>5.29</td>\n",
       "    </tr>\n",
       "    <tr>\n",
       "      <th>...</th>\n",
       "      <td>...</td>\n",
       "      <td>...</td>\n",
       "      <td>...</td>\n",
       "      <td>...</td>\n",
       "      <td>...</td>\n",
       "      <td>...</td>\n",
       "      <td>...</td>\n",
       "      <td>...</td>\n",
       "    </tr>\n",
       "    <tr>\n",
       "      <th>43173</th>\n",
       "      <td>fff60bb7-bf93-4e6b-8055-4d7688da7ead</td>\n",
       "      <td>2024-08-29</td>\n",
       "      <td>2024-08-29 23:47:50.471 Z</td>\n",
       "      <td>WALMART</td>\n",
       "      <td>5eb887f71699c213b1abe2e1</td>\n",
       "      <td>7.874221e+10</td>\n",
       "      <td>1.00</td>\n",
       "      <td>1.23</td>\n",
       "    </tr>\n",
       "    <tr>\n",
       "      <th>32904</th>\n",
       "      <td>fff6c6c8-e002-4262-85ea-25849d9721db</td>\n",
       "      <td>2024-08-30</td>\n",
       "      <td>2024-09-06 18:39:03.161 Z</td>\n",
       "      <td>WALMART</td>\n",
       "      <td>6220b111e9e82c0c6bc24534</td>\n",
       "      <td>7.874237e+10</td>\n",
       "      <td>1.00</td>\n",
       "      <td>1.97</td>\n",
       "    </tr>\n",
       "    <tr>\n",
       "      <th>28152</th>\n",
       "      <td>fffbb112-3cc5-47c2-b014-08db2f87e0c7</td>\n",
       "      <td>2024-07-30</td>\n",
       "      <td>2024-08-04 11:43:31.474 Z</td>\n",
       "      <td>WALMART</td>\n",
       "      <td>5eb59d6be7012d13941af5e2</td>\n",
       "      <td>8.180000e+11</td>\n",
       "      <td>1.00</td>\n",
       "      <td>4.88</td>\n",
       "    </tr>\n",
       "    <tr>\n",
       "      <th>31602</th>\n",
       "      <td>fffbfb2a-7c1f-41c9-a5da-628fa7fcc746</td>\n",
       "      <td>2024-07-28</td>\n",
       "      <td>2024-07-28 11:47:34.180 Z</td>\n",
       "      <td>WALMART</td>\n",
       "      <td>62a0c8f7d966665570351bb8</td>\n",
       "      <td>1.300001e+10</td>\n",
       "      <td>1.00</td>\n",
       "      <td>3.48</td>\n",
       "    </tr>\n",
       "    <tr>\n",
       "      <th>25233</th>\n",
       "      <td>fffe8012-7dcf-4d84-b6c6-feaacab5074a</td>\n",
       "      <td>2024-09-07</td>\n",
       "      <td>2024-09-08 08:21:25.648 Z</td>\n",
       "      <td>WALGREENS</td>\n",
       "      <td>5f53c62bd683c715b9991b20</td>\n",
       "      <td>7.432310e+10</td>\n",
       "      <td>2.00</td>\n",
       "      <td>2.98</td>\n",
       "    </tr>\n",
       "  </tbody>\n",
       "</table>\n",
       "<p>24440 rows × 8 columns</p>\n",
       "</div>"
      ],
      "text/plain": [
       "                                 RECEIPT_ID PURCHASE_DATE  \\\n",
       "41567  0000d256-4041-4a3e-adc4-5623fb6e0c99    2024-08-21   \n",
       "39291  0001455d-7a92-4a7b-a1d2-c747af1c8fd3    2024-07-20   \n",
       "25928  00017e0a-7851-42fb-bfab-0baa96e23586    2024-08-18   \n",
       "41475  000239aa-3478-453d-801e-66a82e39c8af    2024-06-18   \n",
       "43233  00026b4c-dfe8-49dd-b026-4c2f0fd5c6a1    2024-07-04   \n",
       "...                                     ...           ...   \n",
       "43173  fff60bb7-bf93-4e6b-8055-4d7688da7ead    2024-08-29   \n",
       "32904  fff6c6c8-e002-4262-85ea-25849d9721db    2024-08-30   \n",
       "28152  fffbb112-3cc5-47c2-b014-08db2f87e0c7    2024-07-30   \n",
       "31602  fffbfb2a-7c1f-41c9-a5da-628fa7fcc746    2024-07-28   \n",
       "25233  fffe8012-7dcf-4d84-b6c6-feaacab5074a    2024-09-07   \n",
       "\n",
       "                       SCAN_DATE STORE_NAME                   USER_ID  \\\n",
       "41567  2024-08-21 14:19:06.539 Z    WALMART  63b73a7f3d310dceeabd4758   \n",
       "39291  2024-07-20 09:50:24.206 Z       ALDI  62c08877baa38d1a1f6c211a   \n",
       "25928  2024-08-19 15:38:56.813 Z    WALMART  60842f207ac8b7729e472020   \n",
       "41475  2024-06-19 11:03:37.468 Z  FOOD LION  63fcd7cea4f8442c3386b589   \n",
       "43233  2024-07-05 15:56:43.549 Z   RANDALLS  6193231ae9b3d75037b0f928   \n",
       "...                          ...        ...                       ...   \n",
       "43173  2024-08-29 23:47:50.471 Z    WALMART  5eb887f71699c213b1abe2e1   \n",
       "32904  2024-09-06 18:39:03.161 Z    WALMART  6220b111e9e82c0c6bc24534   \n",
       "28152  2024-08-04 11:43:31.474 Z    WALMART  5eb59d6be7012d13941af5e2   \n",
       "31602  2024-07-28 11:47:34.180 Z    WALMART  62a0c8f7d966665570351bb8   \n",
       "25233  2024-09-08 08:21:25.648 Z  WALGREENS  5f53c62bd683c715b9991b20   \n",
       "\n",
       "            BARCODE FINAL_QUANTITY FINAL_SALE  \n",
       "41567  1.530001e+10           1.00       1.54  \n",
       "39291           NaN           1.00       1.49  \n",
       "25928  7.874223e+10           1.00       2.54  \n",
       "41475  7.833997e+11           1.00       3.49  \n",
       "43233  4.790050e+10           1.00       5.29  \n",
       "...             ...            ...        ...  \n",
       "43173  7.874221e+10           1.00       1.23  \n",
       "32904  7.874237e+10           1.00       1.97  \n",
       "28152  8.180000e+11           1.00       4.88  \n",
       "31602  1.300001e+10           1.00       3.48  \n",
       "25233  7.432310e+10           2.00       2.98  \n",
       "\n",
       "[24440 rows x 8 columns]"
      ]
     },
     "execution_count": 23,
     "metadata": {},
     "output_type": "execute_result"
    }
   ],
   "source": [
    "transaction = transaction[transaction['RECEIPT_ID'].notna()]\n",
    "transaction = transaction.sort_values(by=['RECEIPT_ID','FINAL_SALE'])\n",
    "transaction = transaction.drop_duplicates(subset=['RECEIPT_ID'], keep='last')\n",
    "transaction"
   ]
  },
  {
   "cell_type": "code",
   "execution_count": 24,
   "id": "7d082c86",
   "metadata": {},
   "outputs": [
    {
     "name": "stdout",
     "output_type": "stream",
     "text": [
      "number of rows and columns of user table\n",
      "2024-06-12 00:00:00\n",
      "2024-09-08 00:00:00\n"
     ]
    }
   ],
   "source": [
    "print(\"number of rows and columns of user table\")\n",
    "transaction['PURCHASE_DATE'] = pd.to_datetime(transaction['PURCHASE_DATE'])\n",
    "print(transaction.PURCHASE_DATE.min())\n",
    "print(transaction.PURCHASE_DATE.max())\n",
    "#Transaction is taken from June and September of 2024. "
   ]
  },
  {
   "cell_type": "code",
   "execution_count": 25,
   "id": "16b12ebb",
   "metadata": {},
   "outputs": [
    {
     "name": "stdout",
     "output_type": "stream",
     "text": [
      "number of rows and columns of user table\n",
      "2024-06-12 06:36:34.910000+00:00\n",
      "2024-09-08 23:07:19.836000+00:00\n"
     ]
    }
   ],
   "source": [
    "print(\"number of rows and columns of user table\")\n",
    "transaction['SCAN_DATE'] = pd.to_datetime(transaction['SCAN_DATE'])\n",
    "print(transaction.SCAN_DATE.min())\n",
    "print(transaction.SCAN_DATE.max())\n",
    "#This matches purchase date. Good"
   ]
  },
  {
   "cell_type": "code",
   "execution_count": 26,
   "id": "4e1d6587",
   "metadata": {},
   "outputs": [
    {
     "name": "stdout",
     "output_type": "stream",
     "text": [
      "frequency of each unique value in column STORE_NAME\n",
      "WALMART                  10347\n",
      "DOLLAR GENERAL STORE      1360\n",
      "ALDI                      1278\n",
      "TARGET                     739\n",
      "KROGER                     725\n",
      "                         ...  \n",
      "FOOD ZONE                    1\n",
      "WWW.SHOPMAR MARVE            1\n",
      "SPIRITS                      1\n",
      "PONTE FRESCO                 1\n",
      "PLATEAU TRAVEL CENTER        1\n",
      "Name: STORE_NAME, Length: 954, dtype: int64\n"
     ]
    }
   ],
   "source": [
    "print(\"frequency of each unique value in column STORE_NAME\")\n",
    "print(transaction['STORE_NAME'].value_counts(dropna=False))\n",
    "# sns.histplot(data=transaction, x=\"STORE_NAME\", binwidth=10)\n",
    "#Majority Walmart"
   ]
  },
  {
   "cell_type": "code",
   "execution_count": 27,
   "id": "db1efa65",
   "metadata": {},
   "outputs": [
    {
     "name": "stdout",
     "output_type": "stream",
     "text": [
      "Number of unique user in transaction table\n",
      "17694\n"
     ]
    }
   ],
   "source": [
    "print(\"Number of unique user in transaction table\")\n",
    "print(transaction.USER_ID.nunique())\n",
    "# There are returning customers. 17694/24440 -> 27% of data are from returning customer"
   ]
  },
  {
   "cell_type": "code",
   "execution_count": 28,
   "id": "2e143c9d",
   "metadata": {},
   "outputs": [
    {
     "name": "stdout",
     "output_type": "stream",
     "text": [
      "Number of unique barcode in transaction table\n",
      "10945\n"
     ]
    }
   ],
   "source": [
    "print(\"Number of unique barcode in transaction table\")\n",
    "print(transaction.BARCODE.nunique())\n",
    "# Barcodes are being sold more than once"
   ]
  },
  {
   "cell_type": "code",
   "execution_count": 29,
   "id": "3929557b",
   "metadata": {},
   "outputs": [
    {
     "name": "stdout",
     "output_type": "stream",
     "text": [
      "0.01\n",
      "276.0\n",
      "1.0846292962356796\n",
      "1.0\n"
     ]
    }
   ],
   "source": [
    "transaction['FINAL_QUANTITY'] = pd.to_numeric(transaction['FINAL_QUANTITY'], errors='coerce')\n",
    "print(transaction.FINAL_QUANTITY.min())\n",
    "print(transaction.FINAL_QUANTITY.max())\n",
    "print(transaction.FINAL_QUANTITY.mean())\n",
    "print(transaction.FINAL_QUANTITY.median())\n",
    "#This makes sense. On Average people purchase 1 item"
   ]
  },
  {
   "cell_type": "code",
   "execution_count": 30,
   "id": "eb826c0e",
   "metadata": {},
   "outputs": [
    {
     "name": "stdout",
     "output_type": "stream",
     "text": [
      "0.0\n",
      "462.82\n",
      "4.602261865793875\n",
      "3.1\n"
     ]
    }
   ],
   "source": [
    "transaction['FINAL_SALE'] = pd.to_numeric(transaction['FINAL_SALE'], errors='coerce')\n",
    "print(transaction.FINAL_SALE.min())\n",
    "print(transaction.FINAL_SALE.max())\n",
    "print(transaction.FINAL_SALE.mean())\n",
    "print(transaction.FINAL_SALE.median())\n",
    "#This makes sense. On Average people spend $4.5 dollars. $0 sale can be ommited out"
   ]
  },
  {
   "cell_type": "markdown",
   "id": "d2b586ea",
   "metadata": {},
   "source": [
    "Second: provide SQL queries\n",
    "---\n",
    "What are the top 5 brands by receipts scanned among users 21 and over?\n",
    "---\n",
    "\n",
    "Nerds candy, dove, trident, sour path kids, and hershey's are the top 5 brands among users over 21 years old.I did notice that majority of users in transactions table are not in user table. I used an inner join to make sure that only 21+ are captured.\n"
   ]
  },
  {
   "cell_type": "code",
   "execution_count": null,
   "id": "2c82b173",
   "metadata": {},
   "outputs": [],
   "source": [
    "from pandasql import sqldf\n",
    "pysqldf = lambda q: sqldf(q, globals())\n"
   ]
  },
  {
   "cell_type": "code",
   "execution_count": 32,
   "id": "86d40ce5",
   "metadata": {},
   "outputs": [],
   "source": [
    "trans = transaction"
   ]
  },
  {
   "cell_type": "code",
   "execution_count": 33,
   "id": "158e1bcb",
   "metadata": {},
   "outputs": [
    {
     "data": {
      "text/html": [
       "<div>\n",
       "<style scoped>\n",
       "    .dataframe tbody tr th:only-of-type {\n",
       "        vertical-align: middle;\n",
       "    }\n",
       "\n",
       "    .dataframe tbody tr th {\n",
       "        vertical-align: top;\n",
       "    }\n",
       "\n",
       "    .dataframe thead th {\n",
       "        text-align: right;\n",
       "    }\n",
       "</style>\n",
       "<table border=\"1\" class=\"dataframe\">\n",
       "  <thead>\n",
       "    <tr style=\"text-align: right;\">\n",
       "      <th></th>\n",
       "      <th>BRAND</th>\n",
       "      <th>receipts_scanned</th>\n",
       "    </tr>\n",
       "  </thead>\n",
       "  <tbody>\n",
       "    <tr>\n",
       "      <th>0</th>\n",
       "      <td>NERDS CANDY</td>\n",
       "      <td>3</td>\n",
       "    </tr>\n",
       "    <tr>\n",
       "      <th>1</th>\n",
       "      <td>DOVE</td>\n",
       "      <td>3</td>\n",
       "    </tr>\n",
       "    <tr>\n",
       "      <th>2</th>\n",
       "      <td>TRIDENT</td>\n",
       "      <td>2</td>\n",
       "    </tr>\n",
       "    <tr>\n",
       "      <th>3</th>\n",
       "      <td>SOUR PATCH KIDS</td>\n",
       "      <td>2</td>\n",
       "    </tr>\n",
       "    <tr>\n",
       "      <th>4</th>\n",
       "      <td>HERSHEY'S</td>\n",
       "      <td>2</td>\n",
       "    </tr>\n",
       "  </tbody>\n",
       "</table>\n",
       "</div>"
      ],
      "text/plain": [
       "             BRAND  receipts_scanned\n",
       "0      NERDS CANDY                 3\n",
       "1             DOVE                 3\n",
       "2          TRIDENT                 2\n",
       "3  SOUR PATCH KIDS                 2\n",
       "4        HERSHEY'S                 2"
      ]
     },
     "execution_count": 33,
     "metadata": {},
     "output_type": "execute_result"
    }
   ],
   "source": [
    "query1 = \"\"\"\n",
    "Select \n",
    "    P.BRAND,\n",
    "    count(RECEIPT_ID) as receipts_scanned\n",
    "from\n",
    "    trans T\n",
    "inner join\n",
    "    user U\n",
    "on\n",
    "    T.USER_ID=U.ID\n",
    "    and (strftime('%Y', date('now')) - U.BIRTH_DATE) >=21\n",
    "inner join\n",
    "    products P\n",
    "on \n",
    "    P.BARCODE=T.BARCODE\n",
    "where \n",
    "    P.BRAND <>'None'\n",
    "group by\n",
    "    P.BRAND\n",
    "\n",
    "order by receipts_scanned desc\n",
    "LIMIT 5\n",
    "\n",
    "\"\"\"\n",
    "result1 = pysqldf(query1)\n",
    "result1"
   ]
  },
  {
   "cell_type": "markdown",
   "id": "13ae181e",
   "metadata": {},
   "source": [
    "What are the top 5 brands by sales among users that have had their account for at least six months?\n",
    "---\n",
    "\n",
    "CVS, Dove, trident, coors light, and tresemme are the top 5 brands for acccounts 6 months and older."
   ]
  },
  {
   "cell_type": "code",
   "execution_count": 34,
   "id": "c71f31e1",
   "metadata": {},
   "outputs": [
    {
     "data": {
      "text/html": [
       "<div>\n",
       "<style scoped>\n",
       "    .dataframe tbody tr th:only-of-type {\n",
       "        vertical-align: middle;\n",
       "    }\n",
       "\n",
       "    .dataframe tbody tr th {\n",
       "        vertical-align: top;\n",
       "    }\n",
       "\n",
       "    .dataframe thead th {\n",
       "        text-align: right;\n",
       "    }\n",
       "</style>\n",
       "<table border=\"1\" class=\"dataframe\">\n",
       "  <thead>\n",
       "    <tr style=\"text-align: right;\">\n",
       "      <th></th>\n",
       "      <th>BRAND</th>\n",
       "      <th>sale</th>\n",
       "    </tr>\n",
       "  </thead>\n",
       "  <tbody>\n",
       "    <tr>\n",
       "      <th>0</th>\n",
       "      <td>CVS</td>\n",
       "      <td>72.00</td>\n",
       "    </tr>\n",
       "    <tr>\n",
       "      <th>1</th>\n",
       "      <td>DOVE</td>\n",
       "      <td>30.91</td>\n",
       "    </tr>\n",
       "    <tr>\n",
       "      <th>2</th>\n",
       "      <td>TRIDENT</td>\n",
       "      <td>23.36</td>\n",
       "    </tr>\n",
       "    <tr>\n",
       "      <th>3</th>\n",
       "      <td>COORS LIGHT</td>\n",
       "      <td>17.48</td>\n",
       "    </tr>\n",
       "    <tr>\n",
       "      <th>4</th>\n",
       "      <td>TRESEMMÉ</td>\n",
       "      <td>14.58</td>\n",
       "    </tr>\n",
       "  </tbody>\n",
       "</table>\n",
       "</div>"
      ],
      "text/plain": [
       "         BRAND   sale\n",
       "0          CVS  72.00\n",
       "1         DOVE  30.91\n",
       "2      TRIDENT  23.36\n",
       "3  COORS LIGHT  17.48\n",
       "4     TRESEMMÉ  14.58"
      ]
     },
     "execution_count": 34,
     "metadata": {},
     "output_type": "execute_result"
    }
   ],
   "source": [
    "query2 = \"\"\"\n",
    "Select \n",
    "    P.BRAND,\n",
    "    sum(FINAL_SALE) as sale\n",
    "from\n",
    "    trans T\n",
    "inner join\n",
    "    user U\n",
    "on\n",
    "    T.USER_ID=U.ID\n",
    "    and CREATED_DATE <= '2024-09-07'\n",
    "inner join\n",
    "    products P\n",
    "on \n",
    "    P.BARCODE=T.BARCODE \n",
    "group by\n",
    "    P.BRAND\n",
    "order by sale desc\n",
    "limit 5\n",
    "\n",
    "\"\"\"\n",
    "result2 = pysqldf(query2)\n",
    "result2"
   ]
  },
  {
   "cell_type": "markdown",
   "id": "0acc377b",
   "metadata": {},
   "source": [
    "Which is the leading brand in the Dips & Salsa category?\n",
    "---\n",
    "Tostito is the obvious leading brand in Dips and Salsa. I assumed the leading brand to have the highest sale, highest quality, and highest number of people buying it. Tostitos has the highest score in all 3 metrics."
   ]
  },
  {
   "cell_type": "code",
   "execution_count": 37,
   "id": "db855482",
   "metadata": {},
   "outputs": [
    {
     "data": {
      "text/html": [
       "<div>\n",
       "<style scoped>\n",
       "    .dataframe tbody tr th:only-of-type {\n",
       "        vertical-align: middle;\n",
       "    }\n",
       "\n",
       "    .dataframe tbody tr th {\n",
       "        vertical-align: top;\n",
       "    }\n",
       "\n",
       "    .dataframe thead th {\n",
       "        text-align: right;\n",
       "    }\n",
       "</style>\n",
       "<table border=\"1\" class=\"dataframe\">\n",
       "  <thead>\n",
       "    <tr style=\"text-align: right;\">\n",
       "      <th></th>\n",
       "      <th>BRAND</th>\n",
       "      <th>total_sale</th>\n",
       "      <th>total_quantity</th>\n",
       "      <th>unique_user_count</th>\n",
       "    </tr>\n",
       "  </thead>\n",
       "  <tbody>\n",
       "    <tr>\n",
       "      <th>0</th>\n",
       "      <td>TOSTITOS</td>\n",
       "      <td>181.30</td>\n",
       "      <td>38.0</td>\n",
       "      <td>35</td>\n",
       "    </tr>\n",
       "    <tr>\n",
       "      <th>1</th>\n",
       "      <td>None</td>\n",
       "      <td>100.97</td>\n",
       "      <td>22.0</td>\n",
       "      <td>21</td>\n",
       "    </tr>\n",
       "    <tr>\n",
       "      <th>2</th>\n",
       "      <td>GOOD FOODS</td>\n",
       "      <td>94.91</td>\n",
       "      <td>9.0</td>\n",
       "      <td>9</td>\n",
       "    </tr>\n",
       "    <tr>\n",
       "      <th>3</th>\n",
       "      <td>PACE</td>\n",
       "      <td>79.73</td>\n",
       "      <td>22.0</td>\n",
       "      <td>22</td>\n",
       "    </tr>\n",
       "    <tr>\n",
       "      <th>4</th>\n",
       "      <td>MARKETSIDE</td>\n",
       "      <td>65.22</td>\n",
       "      <td>16.0</td>\n",
       "      <td>16</td>\n",
       "    </tr>\n",
       "    <tr>\n",
       "      <th>5</th>\n",
       "      <td>FRITOS</td>\n",
       "      <td>65.22</td>\n",
       "      <td>19.0</td>\n",
       "      <td>18</td>\n",
       "    </tr>\n",
       "    <tr>\n",
       "      <th>6</th>\n",
       "      <td>HELUVA GOOD!</td>\n",
       "      <td>52.01</td>\n",
       "      <td>14.0</td>\n",
       "      <td>14</td>\n",
       "    </tr>\n",
       "    <tr>\n",
       "      <th>7</th>\n",
       "      <td>MARZETTI</td>\n",
       "      <td>51.14</td>\n",
       "      <td>11.0</td>\n",
       "      <td>11</td>\n",
       "    </tr>\n",
       "    <tr>\n",
       "      <th>8</th>\n",
       "      <td>FRESHNESS GUARANTEED</td>\n",
       "      <td>46.66</td>\n",
       "      <td>12.0</td>\n",
       "      <td>12</td>\n",
       "    </tr>\n",
       "    <tr>\n",
       "      <th>9</th>\n",
       "      <td>DEAN'S DAIRY DIP</td>\n",
       "      <td>39.95</td>\n",
       "      <td>17.0</td>\n",
       "      <td>17</td>\n",
       "    </tr>\n",
       "  </tbody>\n",
       "</table>\n",
       "</div>"
      ],
      "text/plain": [
       "                  BRAND  total_sale  total_quantity  unique_user_count\n",
       "0              TOSTITOS      181.30            38.0                 35\n",
       "1                  None      100.97            22.0                 21\n",
       "2            GOOD FOODS       94.91             9.0                  9\n",
       "3                  PACE       79.73            22.0                 22\n",
       "4            MARKETSIDE       65.22            16.0                 16\n",
       "5                FRITOS       65.22            19.0                 18\n",
       "6          HELUVA GOOD!       52.01            14.0                 14\n",
       "7              MARZETTI       51.14            11.0                 11\n",
       "8  FRESHNESS GUARANTEED       46.66            12.0                 12\n",
       "9      DEAN'S DAIRY DIP       39.95            17.0                 17"
      ]
     },
     "execution_count": 37,
     "metadata": {},
     "output_type": "execute_result"
    }
   ],
   "source": [
    "query3 = \"\"\"\n",
    "Select\n",
    "    \n",
    "    P.BRAND,\n",
    "    sum(FINAL_SALE) as total_sale,\n",
    "    sum(FINAL_QUANTITY) as total_quantity,\n",
    "    count(distinct(t.USER_ID)) unique_user_count\n",
    "\n",
    "from\n",
    "    trans T \n",
    "inner join\n",
    "    products P\n",
    "on \n",
    "    P.BARCODE=T.BARCODE\n",
    "    and p.CATEGORY_2 = 'Dips & Salsa'\n",
    "group by\n",
    "    P.BRAND\n",
    "order by total_sale desc\n",
    "\n",
    "\"\"\"\n",
    "result3 = pysqldf(query3)\n",
    "result3.head(10)"
   ]
  },
  {
   "cell_type": "markdown",
   "id": "4f3ea350",
   "metadata": {},
   "source": [
    "Third: communicate with stakeholders\n",
    "---\n",
    "Construct an email or slack message that is understandable to a product or business leader who is not familiar with your day-to-day work. \n",
    "--\n",
    "\n",
    "Summarize the results of your investigation. \n",
    "\n",
    "Include:\n",
    "* Key data quality issues and outstanding questions about the data\n",
    "* One interesting trend in the data. Use a finding from part 2 or come up with a new insight\n",
    "* Request for action: explain what additional help, info, etc. you need to make sense of the data and resolve any outstanding issues"
   ]
  },
  {
   "cell_type": "markdown",
   "id": "17df6dd9",
   "metadata": {},
   "source": [
    "Email/Slack message to product/business leader\n",
    "--\n",
    "Hi there, \n",
    "\n",
    "I just looked at the data you sent over, and here are couple of insights that should be useful to you, along with few questions so that I could get a better understanding of the data.\n",
    "\n",
    "* Where did you get this data from? I am seeing some data quality issues (specifically in Products table). Do you have any contacts that I could talk to? I think it is in the best interest of the company to clean up some of the product categorization so we can deliver insights more confidently. \n",
    "* I found it very interesting that we have some 125 year olds and 2 year olds in our system. Have there been discussions about implementing data verification to ensure our users are who they say they are?\n",
    "* I would love to hop on a call soon to walk you through the findings above and figure out how we can solve the data quality issues. \n",
    "\n",
    "Thanks,\n",
    "Takuto"
   ]
  },
  {
   "cell_type": "code",
   "execution_count": null,
   "id": "d56e1623",
   "metadata": {
    "scrolled": true
   },
   "outputs": [],
   "source": []
  }
 ],
 "metadata": {
  "kernelspec": {
   "display_name": "Python 3 (ipykernel)",
   "language": "python",
   "name": "python3"
  },
  "language_info": {
   "codemirror_mode": {
    "name": "ipython",
    "version": 3
   },
   "file_extension": ".py",
   "mimetype": "text/x-python",
   "name": "python",
   "nbconvert_exporter": "python",
   "pygments_lexer": "ipython3",
   "version": "3.9.13"
  }
 },
 "nbformat": 4,
 "nbformat_minor": 5
}
